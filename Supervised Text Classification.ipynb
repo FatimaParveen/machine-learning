{
 "cells": [
  {
   "cell_type": "code",
   "execution_count": 40,
   "metadata": {},
   "outputs": [],
   "source": [
    "import pandas as pd\n",
    "df1 = pd.read_csv('path',usecols=['content','category'],encoding='ISO-8859-1')\n",
    "df2 = pd.read_csv('path',usecols=['content','category'],encoding='ISO-8859-1')\n",
    "df3 = pd.read_csv('path',usecols=['content','category'],encoding='ISO-8859-1')\n",
    "frames = [df1, df2, df3]\n",
    "df=pd.concat(frames)"
   ]
  },
  {
   "cell_type": "code",
   "execution_count": 41,
   "metadata": {},
   "outputs": [
    {
     "data": {
      "text/html": [
       "<div>\n",
       "<style scoped>\n",
       "    .dataframe tbody tr th:only-of-type {\n",
       "        vertical-align: middle;\n",
       "    }\n",
       "\n",
       "    .dataframe tbody tr th {\n",
       "        vertical-align: top;\n",
       "    }\n",
       "\n",
       "    .dataframe thead th {\n",
       "        text-align: right;\n",
       "    }\n",
       "</style>\n",
       "<table border=\"1\" class=\"dataframe\">\n",
       "  <thead>\n",
       "    <tr style=\"text-align: right;\">\n",
       "      <th></th>\n",
       "      <th>content</th>\n",
       "      <th>category</th>\n",
       "      <th>category_id</th>\n",
       "    </tr>\n",
       "  </thead>\n",
       "  <tbody>\n",
       "    <tr>\n",
       "      <th>0</th>\n",
       "      <td>It was a warm few days of visiting, walking ar...</td>\n",
       "      <td>agriculture</td>\n",
       "      <td>0</td>\n",
       "    </tr>\n",
       "    <tr>\n",
       "      <th>1</th>\n",
       "      <td>The Japanese government has ended its temporar...</td>\n",
       "      <td>agriculture</td>\n",
       "      <td>0</td>\n",
       "    </tr>\n",
       "    <tr>\n",
       "      <th>2</th>\n",
       "      <td>Ontario Sheep Farmers is once again offering i...</td>\n",
       "      <td>agriculture</td>\n",
       "      <td>0</td>\n",
       "    </tr>\n",
       "    <tr>\n",
       "      <th>3</th>\n",
       "      <td>Ontarioâs new provincial government is offic...</td>\n",
       "      <td>agriculture</td>\n",
       "      <td>0</td>\n",
       "    </tr>\n",
       "    <tr>\n",
       "      <th>4</th>\n",
       "      <td>Prime Minister Justin Trudeau unveiled the cab...</td>\n",
       "      <td>agriculture</td>\n",
       "      <td>0</td>\n",
       "    </tr>\n",
       "  </tbody>\n",
       "</table>\n",
       "</div>"
      ],
      "text/plain": [
       "                                             content     category  category_id\n",
       "0  It was a warm few days of visiting, walking ar...  agriculture            0\n",
       "1  The Japanese government has ended its temporar...  agriculture            0\n",
       "2  Ontario Sheep Farmers is once again offering i...  agriculture            0\n",
       "3  Ontarioâs new provincial government is offic...  agriculture            0\n",
       "4  Prime Minister Justin Trudeau unveiled the cab...  agriculture            0"
      ]
     },
     "execution_count": 41,
     "metadata": {},
     "output_type": "execute_result"
    }
   ],
   "source": [
    "#Assign category id to industry(DB model -->category_id)\n",
    "from io import StringIO\n",
    "col = ['content', 'category']\n",
    "df = df[col]\n",
    "df = df[pd.notnull(df['content'])]\n",
    "df.columns = ['content', 'category']\n",
    "df['category_id'] = df['category'].factorize()[0]\n",
    "category_id_df = df[['category', 'category_id']].sort_values('category_id')\n",
    "category_to_id = dict(category_id_df.values)\n",
    "id_to_category = dict(category_id_df[['category_id', 'category']].values)\n",
    "df.head()\n",
    "#df.to_csv"
   ]
  },
  {
   "cell_type": "code",
   "execution_count": 42,
   "metadata": {},
   "outputs": [
    {
     "data": {
      "text/plain": [
       "{'agriculture': 0, 'others': 2, 'retail': 1}"
      ]
     },
     "execution_count": 42,
     "metadata": {},
     "output_type": "execute_result"
    }
   ],
   "source": [
    "category_to_id"
   ]
  },
  {
   "cell_type": "code",
   "execution_count": 43,
   "metadata": {},
   "outputs": [],
   "source": [
    "#apply tfidf\n",
    "from sklearn.feature_extraction.text import TfidfVectorizer\n",
    "from sklearn.externals import joblib\n",
    "import pickle\n",
    "tfidf = TfidfVectorizer(sublinear_tf=True, min_df=5, norm='l2', encoding='latin-1', ngram_range=(1, 2), stop_words='english')\n",
    "#tfidf = TfidfTransformer()\n",
    "features = tfidf.fit_transform(df.content).toarray()\n",
    "labels = df.category_id\n",
    "features.shape\n",
    "# save your model in disk\n",
    "joblib.dump(tfidf, 'path_pkl') \n",
    "\n",
    "# load your model\n",
    "tfidf = joblib.load('path_pkl') "
   ]
  },
  {
   "cell_type": "code",
   "execution_count": 44,
   "metadata": {},
   "outputs": [
    {
     "name": "stdout",
     "output_type": "stream",
     "text": [
      "# 'agriculture':\n",
      "  . Most correlated unigrams:\n",
      ". agriculture\n",
      ". farmers\n",
      "  . Most correlated bigrams:\n",
      ". farms com\n",
      ". national ffa\n",
      "# 'others':\n",
      "  . Most correlated unigrams:\n",
      ". trump\n",
      ". cnn\n",
      "  . Most correlated bigrams:\n",
      ". donald trump\n",
      ". breaking news\n",
      "# 'retail':\n",
      "  . Most correlated unigrams:\n",
      ". retailers\n",
      ". retail\n",
      "  . Most correlated bigrams:\n",
      ". prime day\n",
      ". customer experience\n"
     ]
    }
   ],
   "source": [
    "#unigrams and bigrams for each category\n",
    "from sklearn.feature_selection import chi2\n",
    "import numpy as np\n",
    "N = 2\n",
    "for content, category_id in sorted(category_to_id.items()):\n",
    "  features_chi2 = chi2(features, labels == category_id)\n",
    "  indices = np.argsort(features_chi2[0])\n",
    "  feature_names = np.array(tfidf.get_feature_names())[indices]\n",
    "  unigrams = [v for v in feature_names if len(v.split(' ')) == 1]\n",
    "  bigrams = [v for v in feature_names if len(v.split(' ')) == 2]\n",
    "  print(\"# '{}':\".format(content))\n",
    "  print(\"  . Most correlated unigrams:\\n. {}\".format('\\n. '.join(unigrams[-N:])))\n",
    "  print(\"  . Most correlated bigrams:\\n. {}\".format('\\n. '.join(bigrams[-N:])))\n"
   ]
  },
  {
   "cell_type": "code",
   "execution_count": 45,
   "metadata": {},
   "outputs": [],
   "source": [
    "#Multinomial Naive Bayes\n",
    "from sklearn.model_selection import train_test_split\n",
    "from sklearn.feature_extraction.text import CountVectorizer\n",
    "from sklearn.feature_extraction.text import TfidfTransformer\n",
    "from sklearn.naive_bayes import MultinomialNB\n",
    "X_train, X_test, y_train, y_test = train_test_split(df['content'], df['category'], random_state = 0)\n",
    "count_vect = CountVectorizer()\n",
    "X_train_counts = count_vect.fit_transform(X_train)\n",
    "tfidf_transformer = TfidfTransformer()\n",
    "X_train_tfidf = tfidf_transformer.fit_transform(X_train_counts)\n",
    "clf = MultinomialNB().fit(X_train_tfidf, y_train)"
   ]
  },
  {
   "cell_type": "code",
   "execution_count": 46,
   "metadata": {},
   "outputs": [
    {
     "name": "stdout",
     "output_type": "stream",
     "text": [
      "['retail']\n"
     ]
    }
   ],
   "source": [
    "#test with an article\n",
    "print(clf.predict(count_vect.transform([\"Seeding is nearly complete in Saskatchewan, with 91 per cent of the 2018 crop now in the ground.Saskatchewan Agriculture said Thursday this is well ahead of the five-year average of 81 per cent.Furthest along is the southwest region at 95 per cent. Other areas range from 93 per cent in the southeast, to 86 per cent in the east-central region.\"])))\n"
   ]
  },
  {
   "cell_type": "code",
   "execution_count": 47,
   "metadata": {},
   "outputs": [
    {
     "data": {
      "image/png": "[encoded data removed]",
      "text/plain": [
       "<matplotlib.figure.Figure at 0x26b02166048>"
      ]
     },
     "metadata": {},
     "output_type": "display_data"
    }
   ],
   "source": [
    "##apply different classifiers\n",
    "import matplotlib.pyplot as plt\n",
    "from sklearn.linear_model import LogisticRegression\n",
    "from sklearn.ensemble import RandomForestClassifier\n",
    "from sklearn.svm import LinearSVC\n",
    "from sklearn.model_selection import cross_val_score\n",
    "models = [\n",
    "    RandomForestClassifier(n_estimators=200, max_depth=3, random_state=0),\n",
    "    LinearSVC(),\n",
    "    MultinomialNB(),\n",
    "    LogisticRegression(random_state=0),\n",
    "]\n",
    "CV = 5\n",
    "cv_df = pd.DataFrame(index=range(CV * len(models)))\n",
    "entries = []\n",
    "for model in models:\n",
    "  model_name = model.__class__.__name__\n",
    "  accuracies = cross_val_score(model, features, labels, scoring='accuracy', cv=CV)\n",
    "  for fold_idx, accuracy in enumerate(accuracies):\n",
    "    entries.append((model_name, fold_idx, accuracy))\n",
    "cv_df = pd.DataFrame(entries, columns=['model_name', 'fold_idx', 'accuracy'])\n",
    "import seaborn as sns\n",
    "sns.boxplot(x='model_name', y='accuracy', data=cv_df)\n",
    "sns.stripplot(x='model_name', y='accuracy', data=cv_df, \n",
    "              size=8, jitter=True, edgecolor=\"gray\", linewidth=2)\n",
    "plt.show()"
   ]
  },
  {
   "cell_type": "code",
   "execution_count": 48,
   "metadata": {},
   "outputs": [
    {
     "data": {
      "text/plain": [
       "model_name\n",
       "LinearSVC                 0.908764\n",
       "LogisticRegression        0.901388\n",
       "MultinomialNB             0.871156\n",
       "RandomForestClassifier    0.551814\n",
       "Name: accuracy, dtype: float64"
      ]
     },
     "execution_count": 48,
     "metadata": {},
     "output_type": "execute_result"
    }
   ],
   "source": [
    "#check accuracy\n",
    "cv_df.groupby('model_name').accuracy.mean()\n"
   ]
  },
  {
   "cell_type": "code",
   "execution_count": 49,
   "metadata": {},
   "outputs": [],
   "source": [
    "#Apply linearSVC\n",
    "model = LinearSVC()\n",
    "X_train, X_test, y_train, y_test, indices_train, indices_test = train_test_split(features, labels, df.index, test_size=0.33, random_state=0)\n",
    "clf=model.fit(X_train, y_train)\n",
    "y_pred = model.predict(X_test)\n",
    "\n",
    "from sklearn.metrics import confusion_matrix\n",
    "conf_mat = confusion_matrix(y_test, y_pred)\n",
    "\n",
    "#import matplotlib.pyplot as plt\n",
    "#fig, ax = plt.subplots(figsize=(10,10))\n",
    "#sns.heatmap(conf_mat, annot=True, fmt='d',xticklabels=category_id_df.category.values, yticklabels=category_id_df.category.values)\n",
    "#plt.ylabel('Actual')\n",
    "#plt.xlabel('Predicted')\n",
    "#plt.show()"
   ]
  },
  {
   "cell_type": "code",
   "execution_count": 50,
   "metadata": {},
   "outputs": [
    {
     "data": {
      "text/plain": [
       "array([[484,   4,  10],\n",
       "       [  2, 715,  17],\n",
       "       [  7,  30, 566]], dtype=int64)"
      ]
     },
     "execution_count": 50,
     "metadata": {},
     "output_type": "execute_result"
    }
   ],
   "source": [
    "#Check confusion matrix\n",
    "conf_mat#(for 3 categories)"
   ]
  },
  {
   "cell_type": "code",
   "execution_count": 51,
   "metadata": {},
   "outputs": [],
   "source": [
    "#dump pickle\n",
    "import pickle\n",
    "filename = 'path_sav'\n",
    "pickle.dump(model, open(filename, 'wb'))"
   ]
  },
  {
   "cell_type": "code",
   "execution_count": 52,
   "metadata": {},
   "outputs": [
    {
     "data": {
      "text/plain": [
       "LinearSVC(C=1.0, class_weight=None, dual=True, fit_intercept=True,\n",
       "     intercept_scaling=1, loss='squared_hinge', max_iter=1000,\n",
       "     multi_class='ovr', penalty='l2', random_state=None, tol=0.0001,\n",
       "     verbose=0)"
      ]
     },
     "execution_count": 52,
     "metadata": {},
     "output_type": "execute_result"
    }
   ],
   "source": [
    "model.fit(features, labels)\n"
   ]
  },
  {
   "cell_type": "code",
   "execution_count": 26,
   "metadata": {},
   "outputs": [
    {
     "name": "stdout",
     "output_type": "stream",
     "text": [
      "# 'Agriculture':\n",
      "  . Top unigrams:\n",
      "       . agriculture\n",
      "       . farmers\n",
      "  . Top bigrams:\n",
      "       . department agriculture\n",
      "       . agriculture department\n",
      "# 'Others':\n",
      "  . Top unigrams:\n",
      "       . advertisement\n",
      "       . cnbc\n",
      "  . Top bigrams:\n",
      "       . year old\n",
      "       . president donald\n",
      "# 'Retail':\n",
      "  . Top unigrams:\n",
      "       . retail\n",
      "       . retailers\n",
      "  . Top bigrams:\n",
      "       . retail sales\n",
      "       . retail politics\n"
     ]
    }
   ],
   "source": [
    "#check unigrams,bigrams\n",
    "from sklearn.feature_selection import chi2\n",
    "\n",
    "\n",
    "N = 2\n",
    "for category, category_id in sorted(category_to_id.items()):\n",
    "  indices = np.argsort(model.coef_[category_id])\n",
    "  feature_names = np.array(tfidf.get_feature_names())[indices]\n",
    "  unigrams = [v for v in reversed(feature_names) if len(v.split(' ')) == 1][:N]\n",
    "  bigrams = [v for v in reversed(feature_names) if len(v.split(' ')) == 2][:N]\n",
    "  print(\"# '{}':\".format(category))\n",
    "  print(\"  . Top unigrams:\\n       . {}\".format('\\n       . '.join(unigrams)))\n",
    "  print(\"  . Top bigrams:\\n       . {}\".format('\\n       . '.join(bigrams)))"
   ]
  },
  {
   "cell_type": "code",
   "execution_count": 61,
   "metadata": {},
   "outputs": [],
   "source": [
    "#### Classify function(pass data from DB when classify job runs)\n",
    "def classify(texts):\n",
    "    text_features = tfidf.transform(text)\n",
    "    loaded_model = pickle.load(open(filename, 'rb'))\n",
    "    predictions = loaded_model.predict(text_features)\n",
    "    for text, predicted in zip(text, predictions):\n",
    "     print('\"{}\"'.format(text))\n",
    "     print(\"  - Predicted as: '{}'\".format(id_to_category[predicted]))\n",
    "     print(\"\")"
   ]
  },
  {
   "cell_type": "code",
   "execution_count": 53,
   "metadata": {},
   "outputs": [
    {
     "name": "stdout",
     "output_type": "stream",
     "text": [
      "\"   Home » Grass » Collective industry approach needed to mitigate fodder challenges – Creed Minister for Agriculture, Food and the Marine Michael Creed has given an update on the fodder situation, following a meeting today with the Fodder Coordination Group and the release of the fodder census results. The meeting today (Thursday, July 19) is the third occasion the group has met since the start of the current dry spell. The minister started by commending the ongoing efforts of the group and its work to mitigate the effects of the current dry period on grazing and fodder supplies. Continuing, Minister Creed said: “Practical advice being shared across the group on dealing both with the current weather and also on filling the fodder gap that has now been identified is critical to our managing this challenge. “In light of potential shortfalls in fodder identified in the first fodder survey, the overall priority must be to conserve as much feed for the coming winter when the opportunity to do so arises and to take advantage of growth when it resumes after the current drought.” The minister reiterated, given the challenge, the absolute need for a collective approach – urging everyone to support and participate actively in efforts targeted to mitigate the impacts of the extended dry conditions nationwide. In this regard, he emphasised the positive role for industry and banking representatives on the fodder group. Advertisement Minister Creed welcomed the initiatives taken to date which include: the availability of an advisory helpline for farmers, with direct access to Teagasc advisors on: 087-7971377\n",
      "\"\n",
      "  - Predicted as: 'agriculture'\n",
      "\n"
     ]
    }
   ],
   "source": [
    "#### Test classify function\n",
    "texts=[\"\"\"   Home » Grass » Collective industry approach needed to mitigate fodder challenges – Creed Minister for Agriculture, Food and the Marine Michael Creed has given an update on the fodder situation, following a meeting today with the Fodder Coordination Group and the release of the fodder census results. The meeting today (Thursday, July 19) is the third occasion the group has met since the start of the current dry spell. The minister started by commending the ongoing efforts of the group and its work to mitigate the effects of the current dry period on grazing and fodder supplies. Continuing, Minister Creed said: “Practical advice being shared across the group on dealing both with the current weather and also on filling the fodder gap that has now been identified is critical to our managing this challenge. “In light of potential shortfalls in fodder identified in the first fodder survey, the overall priority must be to conserve as much feed for the coming winter when the opportunity to do so arises and to take advantage of growth when it resumes after the current drought.” The minister reiterated, given the challenge, the absolute need for a collective approach – urging everyone to support and participate actively in efforts targeted to mitigate the impacts of the extended dry conditions nationwide. In this regard, he emphasised the positive role for industry and banking representatives on the fodder group. Advertisement Minister Creed welcomed the initiatives taken to date which include: the availability of an advisory helpline for farmers, with direct access to Teagasc advisors on: 087-7971377\n",
    "\"\"\"]\n",
    "text_features = tfidf.transform(texts)\n",
    "predictions = model.predict(text_features)\n",
    "for text, predicted in zip(texts, predictions):\n",
    "  print('\"{}\"'.format(text))\n",
    "  print(\"  - Predicted as: '{}'\".format(id_to_category[predicted]))\n",
    "  print(\"\")"
   ]
  },
  {
   "cell_type": "code",
   "execution_count": null,
   "metadata": {},
   "outputs": [],
   "source": []
  }
 ],
 "metadata": {
  "kernelspec": {
   "display_name": "Python 3",
   "language": "python",
   "name": "python3"
  },
  "language_info": {
   "codemirror_mode": {
    "name": "ipython",
    "version": 3
   },
   "file_extension": ".py",
   "mimetype": "text/x-python",
   "name": "python",
   "nbconvert_exporter": "python",
   "pygments_lexer": "ipython3",
   "version": "3.6.5"
  }
 },
 "nbformat": 4,
 "nbformat_minor": 2
}
